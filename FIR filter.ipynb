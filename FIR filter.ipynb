import numpy as np
import matplotlib.pyplot as plt
from scipy import signal

# 1. Generate a test signal with noise
fs = 1000  # Sampling frequency (Hz)
t = np.linspace(0, 1, fs, endpoint=False)  # Time vector

# Create a signal with low and high frequency components
signal_freq = 10  # Hz (signal we want to keep)
noise_freq = 100   # Hz (noise we want to remove)
clean_signal = np.sin(2 * np.pi * signal_freq * t)
noise = 0.5 * np.sin(2 * np.pi * noise_freq * t)
noisy_signal = clean_signal + noise

# 2. Design the low-pass FIR filter
cutoff_freq = 20  # Cutoff frequency (Hz)
nyquist = 0.5 * fs  # Nyquist frequency
num_taps = 101  # Number of filter coefficients (odd for symmetry)

# Create the filter using the window method
fir_coeff = signal.firwin(num_taps, cutoff_freq/nyquist, window='hamming')

# 3. Apply the filter using convolution
filtered_signal = signal.convolve(noisy_signal, fir_coeff, mode='same')

# 4. Plot the results
plt.figure(figsize=(12, 8))

# Original and noisy signals
plt.subplot(3, 1, 1)
plt.plot(t, clean_signal, label='Clean Signal')
plt.plot(t, noisy_signal, label='Noisy Signal')
plt.title('Original and Noisy Signals')
plt.xlabel('Time (s)')
plt.ylabel('Amplitude')
plt.legend()

# Frequency response of the filter
plt.subplot(3, 1, 2)
w, h = signal.freqz(fir_coeff)
plt.plot(0.5*fs*w/np.pi, 20*np.log10(np.abs(h)))
plt.title('Filter Frequency Response')
plt.xlabel('Frequency (Hz)')
plt.ylabel('Gain (dB)')
plt.axvline(cutoff_freq, color='red')  # Cutoff frequency
plt.grid()

# Filtered signal
plt.subplot(3, 1, 3)
plt.plot(t, clean_signal, label='Clean Signal')
plt.plot(t, filtered_signal, label='Filtered Signal')
plt.title('Clean vs Filtered Signal')
plt.xlabel('Time (s)')
plt.ylabel('Amplitude')
plt.legend()

plt.tight_layout()
plt.show()
